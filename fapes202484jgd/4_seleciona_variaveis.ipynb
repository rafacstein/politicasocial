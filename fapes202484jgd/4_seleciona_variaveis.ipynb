{
 "cells": [
  {
   "cell_type": "code",
   "execution_count": null,
   "metadata": {},
   "outputs": [],
   "source": [
    "pip install pyarrow"
   ]
  },
  {
   "cell_type": "code",
   "execution_count": null,
   "metadata": {},
   "outputs": [],
   "source": [
    "#Selecionando as colunas do arquivo\n",
    "\n",
    "import pandas as pd\n",
    "import pyarrow.parquet as pq\n",
    "\n",
    "# Specify the file path and the columns to read\n",
    "file_path = 'C:/Users/RafaelStein/Downloads/despesas_2009_2024.parquet'\n",
    "\n",
    "columns_to_select = [\n",
    "    \"Ano\", \"Data\", \"ValorLiquidado\", \"ValorEmpenho\", \"ValorRap\", \n",
    "    \"CodigoFuncionalProgramatica\", \"CodigoCategoriaEconomica\", \n",
    "    \"CategoriaEconomica\", \"CodigoGrupoDespesa\", \"GrupoDespesa\", \n",
    "    \"CodigoElementoDespesa\", \"ElementoDespesa\", \"CodigoFonte\", \"Fonte\", \n",
    "    \"CodigoOrgao\", \"Orgao\", \"Funcao\", \"CodigoFuncao\", \"CodigoSubFuncao\", \n",
    "    \"Programa\", \"CodigoPrograma\", \"CodigoAcao\", \"Acao\", \n",
    "    \"CodigoModalidade\", \"Modalidade\", \"CodigoSubelementoDespesa\", \n",
    "    \"SubelementoDespesa\", \"CodigoSubtitulo\", \"Subtitulo\"\n",
    "]\n",
    "\n",
    "# Read the Parquet file with selected columns\n",
    "table = pq.read_table(file_path, columns=columns_to_select)\n",
    "\n",
    "# Convert to a pandas DataFrame if needed\n",
    "df = table.to_pandas()"
   ]
  },
  {
   "cell_type": "code",
   "execution_count": null,
   "metadata": {},
   "outputs": [],
   "source": [
    "# Output location\n",
    "output_file = \"C:/Users/RafaelStein/Downloads/despesas_2009_2024_reduzido.parquet\"\n",
    "\n",
    "df.to_parquet(output_file, engine='pyarrow')\n",
    "print(f\"Combined Parquet file saved at: {output_file}\")"
   ]
  }
 ],
 "metadata": {
  "kernelspec": {
   "display_name": "Python 3",
   "language": "python",
   "name": "python3"
  },
  "language_info": {
   "codemirror_mode": {
    "name": "ipython",
    "version": 3
   },
   "file_extension": ".py",
   "mimetype": "text/x-python",
   "name": "python",
   "nbconvert_exporter": "python",
   "pygments_lexer": "ipython3",
   "version": "3.11.0"
  }
 },
 "nbformat": 4,
 "nbformat_minor": 2
}
