{
 "cells": [
  {
   "cell_type": "code",
   "execution_count": 1,
   "metadata": {},
   "outputs": [
    {
     "name": "stdout",
     "output_type": "stream",
     "text": [
      "Converted C:/Users/RafaelStein/Documents/file_1.csv to C:/Users/RafaelStein/Documents/file_1.parquet\n",
      "Converted C:/Users/RafaelStein/Documents/file_2.csv to C:/Users/RafaelStein/Documents/file_2.parquet\n",
      "Converted C:/Users/RafaelStein/Documents/file_3.csv to C:/Users/RafaelStein/Documents/file_3.parquet\n",
      "Converted C:/Users/RafaelStein/Documents/file_4.csv to C:/Users/RafaelStein/Documents/file_4.parquet\n",
      "Converted C:/Users/RafaelStein/Documents/file_5.csv to C:/Users/RafaelStein/Documents/file_5.parquet\n",
      "Converted C:/Users/RafaelStein/Documents/file_6.csv to C:/Users/RafaelStein/Documents/file_6.parquet\n",
      "Converted C:/Users/RafaelStein/Documents/file_7.csv to C:/Users/RafaelStein/Documents/file_7.parquet\n",
      "Converted C:/Users/RafaelStein/Documents/file_8.csv to C:/Users/RafaelStein/Documents/file_8.parquet\n",
      "Converted C:/Users/RafaelStein/Documents/file_9.csv to C:/Users/RafaelStein/Documents/file_9.parquet\n",
      "Converted C:/Users/RafaelStein/Documents/file_10.csv to C:/Users/RafaelStein/Documents/file_10.parquet\n",
      "Converted C:/Users/RafaelStein/Documents/file_11.csv to C:/Users/RafaelStein/Documents/file_11.parquet\n",
      "Converted C:/Users/RafaelStein/Documents/file_12.csv to C:/Users/RafaelStein/Documents/file_12.parquet\n",
      "Converted C:/Users/RafaelStein/Documents/file_13.csv to C:/Users/RafaelStein/Documents/file_13.parquet\n",
      "Converted C:/Users/RafaelStein/Documents/file_14.csv to C:/Users/RafaelStein/Documents/file_14.parquet\n",
      "Converted C:/Users/RafaelStein/Documents/file_15.csv to C:/Users/RafaelStein/Documents/file_15.parquet\n"
     ]
    }
   ],
   "source": [
    "import pandas as pd\n",
    "\n",
    "# List of input CSV files\n",
    "input_csv_files = [\n",
    "    \"C:/Users/RafaelStein/Documents/file_1.csv\",\n",
    "    \"C:/Users/RafaelStein/Documents/file_2.csv\",\n",
    "    \"C:/Users/RafaelStein/Documents/file_3.csv\",\n",
    "    \"C:/Users/RafaelStein/Documents/file_4.csv\",\n",
    "    \"C:/Users/RafaelStein/Documents/file_5.csv\",\n",
    "    \"C:/Users/RafaelStein/Documents/file_6.csv\",\n",
    "    \"C:/Users/RafaelStein/Documents/file_7.csv\",\n",
    "    \"C:/Users/RafaelStein/Documents/file_8.csv\",\n",
    "    \"C:/Users/RafaelStein/Documents/file_9.csv\",\n",
    "    \"C:/Users/RafaelStein/Documents/file_10.csv\",\n",
    "    \"C:/Users/RafaelStein/Documents/file_11.csv\",\n",
    "    \"C:/Users/RafaelStein/Documents/file_12.csv\",\n",
    "    \"C:/Users/RafaelStein/Documents/file_13.csv\",\n",
    "    \"C:/Users/RafaelStein/Documents/file_14.csv\",\n",
    "    \"C:/Users/RafaelStein/Documents/file_15.csv\"\n",
    "]\n",
    "\n",
    "# Loop through each file, read as CSV, and save as Parquet\n",
    "for file in input_csv_files:\n",
    "    # Read the CSV file\n",
    "    df = pd.read_csv(file,delimiter=\";\",low_memory=False)\n",
    "    \n",
    "    # Generate the Parquet file path by replacing the .csv extension with .parquet\n",
    "    parquet_file = file.replace(\".csv\", \".parquet\")\n",
    "    \n",
    "    # Save the dataframe as Parquet\n",
    "    df.to_parquet(parquet_file, engine='pyarrow')  # You can also use engine='fastparquet'\n",
    "\n",
    "    print(f\"Converted {file} to {parquet_file}\")\n"
   ]
  }
 ],
 "metadata": {
  "kernelspec": {
   "display_name": "Python 3",
   "language": "python",
   "name": "python3"
  },
  "language_info": {
   "codemirror_mode": {
    "name": "ipython",
    "version": 3
   },
   "file_extension": ".py",
   "mimetype": "text/x-python",
   "name": "python",
   "nbconvert_exporter": "python",
   "pygments_lexer": "ipython3",
   "version": "3.11.0"
  }
 },
 "nbformat": 4,
 "nbformat_minor": 2
}
