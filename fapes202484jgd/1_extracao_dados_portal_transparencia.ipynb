{
 "cells": [
  {
   "cell_type": "code",
   "execution_count": 1,
   "metadata": {},
   "outputs": [
    {
     "name": "stdout",
     "output_type": "stream",
     "text": [
      "Downloading https://dados.es.gov.br/dataset/99e16b13-0e6f-4504-8544-00de842ab1fd/resource/cf68f140-d077-4fe4-98fe-45232dc584a9/download/despesas-2009.csv...\n",
      "Saved to file_1.csv\n",
      "Downloading https://dados.es.gov.br/dataset/99e16b13-0e6f-4504-8544-00de842ab1fd/resource/55d2ab05-f8a7-41d2-9bb3-23a6b919e0b7/download/despesas-2010.csv...\n",
      "Saved to file_2.csv\n",
      "Downloading https://dados.es.gov.br/dataset/99e16b13-0e6f-4504-8544-00de842ab1fd/resource/732be7ee-8e04-4568-901d-800ec515f6ca/download/despesas-2011.csv...\n",
      "Saved to file_3.csv\n",
      "Downloading https://dados.es.gov.br/dataset/99e16b13-0e6f-4504-8544-00de842ab1fd/resource/152335dc-473d-481b-a61d-77cc4300ef5d/download/despesas-2012.csv...\n",
      "Saved to file_4.csv\n",
      "Downloading https://dados.es.gov.br/dataset/99e16b13-0e6f-4504-8544-00de842ab1fd/resource/a42b22d5-96bd-4778-8279-d1077cffb2a4/download/despesas-2013.csv...\n",
      "Saved to file_5.csv\n",
      "Downloading https://dados.es.gov.br/dataset/99e16b13-0e6f-4504-8544-00de842ab1fd/resource/5ddb74e2-73a7-40e4-bad0-6632bdbfc982/download/despesas-2014.csv...\n",
      "Saved to file_6.csv\n",
      "Downloading https://dados.es.gov.br/dataset/99e16b13-0e6f-4504-8544-00de842ab1fd/resource/3739e443-e01e-4eca-bd89-87e42aa50a9d/download/despesas-2015.csv...\n",
      "Saved to file_7.csv\n",
      "Downloading https://dados.es.gov.br/dataset/99e16b13-0e6f-4504-8544-00de842ab1fd/resource/f10178de-008f-4942-a249-89cdc172dd03/download/despesas-2016.csv...\n",
      "Saved to file_8.csv\n",
      "Downloading https://dados.es.gov.br/dataset/99e16b13-0e6f-4504-8544-00de842ab1fd/resource/22476243-8565-4649-bd4f-abd2cafbd144/download/despesas-2017.csv...\n",
      "Saved to file_9.csv\n",
      "Downloading https://dados.es.gov.br/dataset/99e16b13-0e6f-4504-8544-00de842ab1fd/resource/2c26fe9a-7d90-4c44-a3fb-68fcd5790800/download/despesas-2018.csv...\n",
      "Saved to file_10.csv\n",
      "Downloading https://dados.es.gov.br/dataset/99e16b13-0e6f-4504-8544-00de842ab1fd/resource/8f3e2097-d89e-4ac7-8f20-660ca9dbd75d/download/despesas-2019.csv...\n",
      "Saved to file_11.csv\n",
      "Downloading https://dados.es.gov.br/dataset/99e16b13-0e6f-4504-8544-00de842ab1fd/resource/19c1fe94-56e7-41e3-957f-46c3de28a2ab/download/despesas-2020.csv...\n",
      "Saved to file_12.csv\n",
      "Downloading https://dados.es.gov.br/dataset/99e16b13-0e6f-4504-8544-00de842ab1fd/resource/3f0d341b-7c09-4b4a-83b1-bdf5ae26ec13/download/despesas-2021.csv...\n",
      "Saved to file_13.csv\n",
      "Downloading https://dados.es.gov.br/dataset/99e16b13-0e6f-4504-8544-00de842ab1fd/resource/2dddb456-5481-43f7-ab09-5b0a0faa784f/download/despesas-2022.csv...\n",
      "Saved to file_14.csv\n",
      "Downloading https://dados.es.gov.br/dataset/99e16b13-0e6f-4504-8544-00de842ab1fd/resource/2c3328bd-329e-4db6-b742-630619b0dd65/download/despesas-2023.csv...\n",
      "Saved to file_15.csv\n"
     ]
    }
   ],
   "source": [
    "import requests\n",
    "\n",
    "# Path to the txt file containing the URLs\n",
    "url_file_path = \"url_portal_transparencia_es.txt\"\n",
    "\n",
    "# Read URLs from the file\n",
    "with open(url_file_path, \"r\") as file:\n",
    "    file_urls = [line.strip() for line in file if line.strip()]  # Remove empty lines and strip whitespace\n",
    "\n",
    "# Download each file\n",
    "for i, url in enumerate(file_urls, start=1):\n",
    "    try:\n",
    "        # Generate a save path dynamically\n",
    "        save_path = f\"file_{i}.csv\"  # Change naming pattern if needed\n",
    "        print(f\"Downloading {url}...\")\n",
    "        response = requests.get(url, timeout=10)\n",
    "        response.raise_for_status()  # Raise an exception for HTTP errors\n",
    "        \n",
    "        # Save the content to a file\n",
    "        with open(save_path, \"wb\") as file:\n",
    "            file.write(response.content)\n",
    "        print(f\"Saved to {save_path}\")\n",
    "    except requests.exceptions.RequestException as e:\n",
    "        print(f\"Failed to download {url}. Error: {e}\")\n"
   ]
  }
 ],
 "metadata": {
  "kernelspec": {
   "display_name": "Python 3",
   "language": "python",
   "name": "python3"
  },
  "language_info": {
   "codemirror_mode": {
    "name": "ipython",
    "version": 3
   },
   "file_extension": ".py",
   "mimetype": "text/x-python",
   "name": "python",
   "nbconvert_exporter": "python",
   "pygments_lexer": "ipython3",
   "version": "3.11.0"
  }
 },
 "nbformat": 4,
 "nbformat_minor": 2
}
