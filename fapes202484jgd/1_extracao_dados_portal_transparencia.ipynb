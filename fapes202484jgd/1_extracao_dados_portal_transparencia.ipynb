{
 "cells": [
  {
   "cell_type": "code",
   "execution_count": 1,
   "metadata": {},
   "outputs": [
    {    
     ]
    }
   ],
   "source": [
    "import requests\n",
    "\n",
    "# Path to the txt file containing the URLs\n",
    "url_file_path = \"url_portal_transparencia_es.txt\"\n",
    "\n",
    "# Read URLs from the file\n",
    "with open(url_file_path, \"r\") as file:\n",
    "    file_urls = [line.strip() for line in file if line.strip()]  # Remove empty lines and strip whitespace\n",
    "\n",
    "# Download each file\n",
    "for i, url in enumerate(file_urls, start=1):\n",
    "    try:\n",
    "        # Generate a save path dynamically\n",
    "        save_path = f\"file_{i}.csv\"  # Change naming pattern if needed\n",
    "        print(f\"Downloading {url}...\")\n",
    "        response = requests.get(url, timeout=10)\n",
    "        response.raise_for_status()  # Raise an exception for HTTP errors\n",
    "        \n",
    "        # Save the content to a file\n",
    "        with open(save_path, \"wb\") as file:\n",
    "            file.write(response.content)\n",
    "        print(f\"Saved to {save_path}\")\n",
    "    except requests.exceptions.RequestException as e:\n",
    "        print(f\"Failed to download {url}. Error: {e}\")\n"
   ]
  }
 ],
 "metadata": {
  "kernelspec": {
   "display_name": "Python 3",
   "language": "python",
   "name": "python3"
  },
  "language_info": {
   "codemirror_mode": {
    "name": "ipython",
    "version": 3
   },
   "file_extension": ".py",
   "mimetype": "text/x-python",
   "name": "python",
   "nbconvert_exporter": "python",
   "pygments_lexer": "ipython3",
   "version": "3.11.0"
  }
 },
 "nbformat": 4,
 "nbformat_minor": 2
}
