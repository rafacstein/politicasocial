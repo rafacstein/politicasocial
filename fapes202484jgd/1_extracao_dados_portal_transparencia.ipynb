{
 "cells": [
  {
   "cell_type": "code",
   "execution_count": null,
   "id": "import-libraries",
   "metadata": {},
   "outputs": [],
   "source": [
    "import requests\n",
    "import os"
   ]
  },
  {
   "cell_type": "code",
   "execution_count": null,
   "id": "define-path",
   "metadata": {},
   "outputs": [],
   "source": [
    "# Caminho do arquivo de URLs no repositório\n",
    "url_file_path = os.path.join(os.getcwd(), 'url_portal_transparencia_es.txt')\n",
    "\n",
    "# Verifica se o arquivo existe\n",
    "if not os.path.exists(url_file_path):\n",
    "    raise FileNotFoundError(f'Erro: Arquivo {url_file_path} não encontrado!')"
   ]
  },
  {
   "cell_type": "code",
   "execution_count": null,
   "id": "read-urls",
   "metadata": {},
   "outputs": [],
   "source": [
    "# Lê as URLs do arquivo\n",
    "with open(url_file_path, 'r', encoding='utf-8') as file:\n",
    "    file_urls = [line.strip() for line in file if line.strip()]"
   ]
  },
  {
   "cell_type": "code",
   "execution_count": null,
   "id": "download-files",
   "metadata": {},
   "outputs": [],
   "source": [
    "# Baixa cada arquivo CSV\n",
    "for i, url in enumerate(file_urls, start=1):\n",
    "    try:\n",
    "        save_path = f'file_{i}.csv'  # Nome do arquivo baixado\n",
    "        print(f'Baixando {url}...')\n",
    "\n",
    "        response = requests.get(url, timeout=30)  # Aumenta timeout para evitar falhas\n",
    "        response.raise_for_status()\n",
    "\n",
    "        with open(save_path, 'wb') as file:\n",
    "            file.write(response.content)\n",
    "\n",
    "        print(f'Salvo em {save_path}')\n",
    "    except requests.exceptions.RequestException as e:\n",
    "        print(f'Falha ao baixar {url}. Erro: {e}')"
   ]
  }
 ],
 "metadata": {
  "kernelspec": {
   "display_name": "Python 3",
   "language": "python",
   "name": "python3"
  },
  "language_info": {
   "codemirror_mode": {
    "name": "ipython",
    "version": 3
   },
   "file_extension": ".py",
   "mimetype": "text/x-python",
   "name": "python",
   "nbconvert_exporter": "python",
   "pygments_lexer": "ipython3",
   "version": "3.9"
  }
 }
}
